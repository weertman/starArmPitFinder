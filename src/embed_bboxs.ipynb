{
 "cells": [
  {
   "cell_type": "code",
   "execution_count": 1,
   "id": "initial_id",
   "metadata": {
    "collapsed": true,
    "ExecuteTime": {
     "end_time": "2024-06-28T03:12:33.675664Z",
     "start_time": "2024-06-28T03:12:33.084175Z"
    }
   },
   "outputs": [],
   "source": [
    "import os\n",
    "from create_bboxs_from_cvat11 import create_bboxs_from_cvat11\n"
   ]
  },
  {
   "cell_type": "code",
   "outputs": [
    {
     "name": "stderr",
     "output_type": "stream",
     "text": [
      "100%|██████████| 97/97 [00:00<00:00, 334.34it/s]"
     ]
    },
    {
     "name": "stdout",
     "output_type": "stream",
     "text": [
      "Create meta file: ../data/example/create.csv\n"
     ]
    },
    {
     "name": "stderr",
     "output_type": "stream",
     "text": [
      "\n"
     ]
    }
   ],
   "source": [
    "path_root_data = os.path.join('..', 'data', 'example', )\n",
    "create_bboxs_from_cvat11(path_root_data)"
   ],
   "metadata": {
    "collapsed": false,
    "ExecuteTime": {
     "end_time": "2024-06-28T03:12:34.028775Z",
     "start_time": "2024-06-28T03:12:33.708346Z"
    }
   },
   "id": "a919adc67715b30e",
   "execution_count": 3
  },
  {
   "cell_type": "code",
   "outputs": [],
   "source": [
    "## embed images with a pytorch ViT model\n",
    "import os\n",
    "import torch\n",
    "from torchvision import transforms\n",
    "from PIL import Image\n",
    "import timm\n",
    "import numpy as np\n",
    "\n",
    "def load_vit_model(model_name='vit_base_patch16_224'):\n",
    "    model = timm.create_model(model_name, pretrained=True)\n",
    "    model.eval()\n",
    "    return model\n",
    "\n",
    "def preprocess_image(image_path):\n",
    "    transform = transforms.Compose([\n",
    "        transforms.Resize((224, 224)),\n",
    "        transforms.ToTensor(),\n",
    "        transforms.Normalize(mean=[0.5, 0.5, 0.5], std=[0.5, 0.5, 0.5])\n",
    "    ])\n",
    "    image = Image.open(image_path).convert('RGB')\n",
    "    image = transform(image).unsqueeze(0)\n",
    "    return image\n",
    "\n",
    "def get_image_embedding(model, image_tensor):\n",
    "    with torch.no_grad():\n",
    "        output = model.forward_features(image_tensor)\n",
    "    return output.squeeze().numpy()\n",
    "\n",
    "def embed_images(image_paths, model):\n",
    "    embeddings = []\n",
    "    for image_path in image_paths:\n",
    "        image_tensor = preprocess_image(image_path)\n",
    "        embedding = get_image_embedding(model, image_tensor)\n",
    "        embeddings.append(embedding)\n",
    "    return embeddings\n",
    "\n",
    "\n"
   ],
   "metadata": {
    "collapsed": false,
    "ExecuteTime": {
     "end_time": "2024-06-28T03:15:25.333478Z",
     "start_time": "2024-06-28T03:15:15.203573Z"
    }
   },
   "id": "962e34a6c9bf4cf8",
   "execution_count": 4
  },
  {
   "cell_type": "code",
   "outputs": [],
   "source": [],
   "metadata": {
    "collapsed": false
   },
   "id": "6dad3997cf990ce1"
  }
 ],
 "metadata": {
  "kernelspec": {
   "display_name": "Python 3",
   "language": "python",
   "name": "python3"
  },
  "language_info": {
   "codemirror_mode": {
    "name": "ipython",
    "version": 2
   },
   "file_extension": ".py",
   "mimetype": "text/x-python",
   "name": "python",
   "nbconvert_exporter": "python",
   "pygments_lexer": "ipython2",
   "version": "2.7.6"
  }
 },
 "nbformat": 4,
 "nbformat_minor": 5
}
